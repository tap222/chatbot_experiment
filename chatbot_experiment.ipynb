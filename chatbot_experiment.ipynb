{
 "cells": [
  {
   "cell_type": "code",
   "execution_count": 11,
   "metadata": {
    "collapsed": true
   },
   "outputs": [],
   "source": [
    "import re\n",
    "import sqlite3\n",
    "from collections import Counter\n",
    "from string import punctuation\n",
    "from math import sqrt"
   ]
  },
  {
   "cell_type": "code",
   "execution_count": 12,
   "metadata": {},
   "outputs": [],
   "source": [
    "# initialize the connection to the database\n",
    "connection = sqlite3.connect('chatbot.sqlite')\n",
    "cursor = connection.cursor()\n",
    " \n",
    "# create the tables needed by the program\n",
    "create_table_request_list = [\n",
    "    'CREATE TABLE words(word TEXT UNIQUE)',\n",
    "    'CREATE TABLE sentences(sentence TEXT UNIQUE, used INT NOT NULL DEFAULT 0)',\n",
    "    'CREATE TABLE associations (word_id INT NOT NULL, sentence_id INT NOT NULL, weight REAL NOT NULL)',\n",
    "]\n",
    "for create_table_request in create_table_request_list:\n",
    "    try:\n",
    "        cursor.execute(create_table_request)\n",
    "    except:\n",
    "        pass"
   ]
  },
  {
   "cell_type": "code",
   "execution_count": 6,
   "metadata": {
    "collapsed": true
   },
   "outputs": [],
   "source": []
  },
  {
   "cell_type": "code",
   "execution_count": 13,
   "metadata": {},
   "outputs": [],
   "source": [
    "def get_id(entityName, text):\n",
    "    \"\"\"Retrieve an entity's unique ID from the database, given its associated text.\n",
    "    If the row is not already present, it is inserted.\n",
    "    The entity can either be a sentence or a word.\"\"\"\n",
    "    tableName = entityName + 's'\n",
    "    columnName = entityName\n",
    "    cursor.execute('SELECT rowid FROM ' + tableName + ' WHERE ' + columnName + ' = ?', (text,))\n",
    "    row = cursor.fetchone()\n",
    "    if row:\n",
    "        return row[0]\n",
    "    else:\n",
    "        cursor.execute('INSERT INTO ' + tableName + ' (' + columnName + ') VALUES (?)', (text,))\n",
    "        return cursor.lastrowid"
   ]
  },
  {
   "cell_type": "code",
   "execution_count": 14,
   "metadata": {
    "collapsed": true
   },
   "outputs": [],
   "source": [
    "def get_words(text):\n",
    "    \"\"\"Retrieve the words present in a given string of text.\n",
    "    The return value is a list of tuples where the first member is a lowercase word,\n",
    "    and the second member the number of time it is present in the text.\"\"\"\n",
    "    wordsRegexpString = '(?:\\w+|[' + re.escape(punctuation) + ']+)'\n",
    "    wordsRegexp = re.compile(wordsRegexpString)\n",
    "    wordsList = wordsRegexp.findall(text.lower())\n",
    "    return Counter(wordsList).items()"
   ]
  },
  {
   "cell_type": "code",
   "execution_count": null,
   "metadata": {},
   "outputs": [
    {
     "name": "stdout",
     "output_type": "stream",
     "text": [
      "B: Hello!\n",
      "H: hello\n",
      "B: hello\n",
      "H: hi\n",
      "B: hi\n",
      "H: oye\n",
      "B: oye\n",
      "H: hi\n",
      "B: oye\n",
      "H: tuborg\n",
      "B: tuborg\n",
      "H: get\n",
      "B: get\n",
      "H: are you getting?\n",
      "B: are you getting?\n",
      "H: yes\n",
      "B: yes\n",
      "H: no\n",
      "B: no\n",
      "H: hi\n",
      "B: oye\n",
      "H: hello\n",
      "B: hi\n",
      "H: oye\n",
      "B: hello\n",
      "H: k\n",
      "B: k\n",
      "H: k\n",
      "B: k\n",
      "H: h\n",
      "B: h\n"
     ]
    }
   ],
   "source": [
    "B = 'Hello!'\n",
    "while True:\n",
    "    # output bot's message\n",
    "    print('B: ' + B)\n",
    "    # ask for user input; if blank line, exit the loop\n",
    "    H = input('H: ').strip()\n",
    "    if H == '':\n",
    "        break\n",
    "    # store the association between the bot's message words and the user's response\n",
    "    words = get_words(B)\n",
    "    words_length = sum([n * len(word) for word, n in words])\n",
    "    sentence_id = get_id('sentence', H)\n",
    "    for word, n in words:\n",
    "        word_id = get_id('word', word)\n",
    "        weight = sqrt(n / float(words_length))\n",
    "        cursor.execute('INSERT INTO associations VALUES (?, ?, ?)', (word_id, sentence_id, weight))\n",
    "    connection.commit()\n",
    "    # retrieve the most likely answer from the database\n",
    "    cursor.execute('CREATE TEMPORARY TABLE results(sentence_id INT, sentence TEXT, weight REAL)')\n",
    "    words = get_words(H)\n",
    "    words_length = sum([n * len(word) for word, n in words])\n",
    "    for word, n in words:\n",
    "        weight = sqrt(n / float(words_length))\n",
    "        cursor.execute('INSERT INTO results SELECT associations.sentence_id, sentences.sentence, ?*associations.weight/(4+sentences.used) FROM words INNER JOIN associations ON associations.word_id=words.rowid INNER JOIN sentences ON sentences.rowid=associations.sentence_id WHERE words.word=?', (weight, word,))\n",
    "    # if matches were found, give the best one\n",
    "    cursor.execute('SELECT sentence_id, sentence, SUM(weight) AS sum_weight FROM results GROUP BY sentence_id ORDER BY sum_weight DESC LIMIT 1')\n",
    "    row = cursor.fetchone()\n",
    "    cursor.execute('DROP TABLE results')\n",
    "    # otherwise, just randomly pick one of the least used sentences\n",
    "    if row is None:\n",
    "        cursor.execute('SELECT rowid, sentence FROM sentences WHERE used = (SELECT MIN(used) FROM sentences) ORDER BY RANDOM() LIMIT 1')\n",
    "        row = cursor.fetchone()\n",
    "    # tell the database the sentence has been used once more, and prepare the sentence\n",
    "    B = row[1]\n",
    "    cursor.execute('UPDATE sentences SET used=used+1 WHERE rowid=?', (row[0],))"
   ]
  },
  {
   "cell_type": "code",
   "execution_count": null,
   "metadata": {
    "collapsed": true
   },
   "outputs": [],
   "source": []
  }
 ],
 "metadata": {
  "kernelspec": {
   "display_name": "Python 3",
   "language": "python",
   "name": "python3"
  },
  "language_info": {
   "codemirror_mode": {
    "name": "ipython",
    "version": 3
   },
   "file_extension": ".py",
   "mimetype": "text/x-python",
   "name": "python",
   "nbconvert_exporter": "python",
   "pygments_lexer": "ipython3",
   "version": "3.6.2"
  }
 },
 "nbformat": 4,
 "nbformat_minor": 2
}
